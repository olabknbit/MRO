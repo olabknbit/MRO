{
 "cells": [
  {
   "cell_type": "code",
   "execution_count": null,
   "metadata": {
    "collapsed": true
   },
   "outputs": [],
   "source": [
    "Moduł ładujący dane."
   ]
  },
  {
   "cell_type": "code",
   "execution_count": 2,
   "metadata": {
    "collapsed": true
   },
   "outputs": [],
   "source": [
    "from scipy import io as io\n",
    "import numpy as np\n",
    "\n",
    "\n",
    "def faces_yale_loader():\n",
    "    data = io.loadmat('data/facesYale.mat')\n",
    "    y_train = data['personTrain'].flatten()\n",
    "    y_test = data['personTest'].flatten()\n",
    "    x_train = data['featuresTrain']\n",
    "    x_test = data['featuresTest']\n",
    "    return x_train, x_test, y_train, y_test\n",
    "\n",
    "\n",
    "def spambase_loader():\n",
    "    data = io.loadmat('data/spambase.mat')\n",
    "    y_train = data['classesTrain'].flatten()\n",
    "    y_test = data['classesTest'].flatten()\n",
    "    x_train = data['featuresTrain']\n",
    "    x_test = data['featuresTest']\n",
    "    return x_train, x_test, y_train, y_test\n",
    "\n",
    "\n",
    "def spambase_for_cross_validation_loader():\n",
    "    x_train, x_test, y_train, y_test = spambase_loader()\n",
    "    return np.vstack((x_train, x_test)), np.concatenate((y_train, y_test))\n",
    "\n",
    "\n",
    "def hypercubes_loader():\n",
    "    data = io.loadmat('data/multiDimHypercubes.mat')\n",
    "    y_train = data['classesTrain'][0]\n",
    "    y_test = data['classesTest'][0]\n",
    "    x_train = data['featuresTrain'][0]\n",
    "    x_test = data['featuresTest'][0]\n",
    "    return x_train, x_test, y_train, y_test\n"
   ]
  },
  {
   "cell_type": "markdown",
   "metadata": {},
   "source": [
    "Moduł obliczający odległość euklidesową oraz wartość błędu dla podych zestawów treningowych i testowych."
   ]
  },
  {
   "cell_type": "code",
   "execution_count": null,
   "metadata": {
    "collapsed": true
   },
   "outputs": [],
   "source": [
    "import numpy as np\n",
    "\n",
    "\n",
    "def euclidean_distance(instance1, instance2):\n",
    "    return np.linalg.norm(instance2-instance1)\n",
    "\n",
    "\n",
    "def count_accuracy(x_train, x_test, y_train, y_test, contrary=False):\n",
    "    incorrect = 0.0\n",
    "    closest_dist = 0.0\n",
    "    contrary_dist = 0.0\n",
    "\n",
    "    for x, y in zip(x_test, y_test):\n",
    "        dist = euclidean_distance(x, x_train[0])\n",
    "        contrary_class_dist = dist\n",
    "        res = y_train[0]\n",
    "        for x_t, y_t in zip(x_train, y_train):\n",
    "            e_dist = euclidean_distance(x, x_t)\n",
    "            if e_dist < dist:\n",
    "                dist = e_dist\n",
    "                res = y_t\n",
    "            if e_dist > contrary_class_dist:\n",
    "                contrary_class_dist = e_dist\n",
    "        if y != res:\n",
    "            incorrect += 1.0\n",
    "        if contrary:\n",
    "            closest_dist += dist\n",
    "            contrary_dist += contrary_class_dist\n",
    "\n",
    "    if contrary:\n",
    "        return closest_dist / len(y_test), contrary_dist / len(y_test)\n",
    "    return incorrect / len(y_test)\n"
   ]
  },
  {
   "cell_type": "markdown",
   "metadata": {},
   "source": [
    "Moduł obliczający wartość błędu dla zbioru danych faces."
   ]
  },
  {
   "cell_type": "code",
   "execution_count": 6,
   "metadata": {},
   "outputs": [
    {
     "name": "stdout",
     "output_type": "stream",
     "text": [
      "0.06666666666666667\n"
     ]
    }
   ],
   "source": [
    "import data_loader\n",
    "import accuracy_counter as acc\n",
    "\n",
    "\n",
    "def main():\n",
    "    x_train, x_test, y_train, y_test = data_loader.faces_yale_loader()\n",
    "    print(str(acc.count_accuracy(x_train, x_test, y_train, y_test)))\n",
    "\n",
    "\n",
    "if __name__ == '__main__':\n",
    "    main()"
   ]
  },
  {
   "cell_type": "markdown",
   "metadata": {
    "collapsed": true
   },
   "source": [
    "Wynik: 0.0666666666667"
   ]
  },
  {
   "cell_type": "markdown",
   "metadata": {},
   "source": [
    "Moduł obliczający wartość błędu dla z bioru danych spambase, gdzie 10-ta cecha każdego elementu jest przeskalowana przez zmiennąną należącą do przedziału 0-20."
   ]
  },
  {
   "cell_type": "code",
   "execution_count": 2,
   "metadata": {},
   "outputs": [
    {
     "name": "stdout",
     "output_type": "stream",
     "text": [
      "1: 0.1790502158600318\n",
      "2: 0.17450579413769599\n",
      "3: 0.17791411042944785\n",
      "4: 0.18132242672119972\n",
      "5: 0.18291297432401726\n",
      "6: 0.18586684844353557\n",
      "7: 0.18859350147693707\n",
      "8: 0.18836628039082026\n",
      "9: 0.18972960690752103\n",
      "10: 0.19063849125198817\n",
      "11: 0.19177459668257213\n",
      "12: 0.1929107021131561\n",
      "13: 0.1929107021131561\n",
      "14: 0.19154737559645535\n",
      "15: 0.19427402862985685\n",
      "16: 0.19450124971597363\n",
      "17: 0.19518291297432402\n",
      "18: 0.19359236537150648\n",
      "19: 0.19222903885480572\n",
      "20: 0.1931379231992729\n"
     ]
    }
   ],
   "source": [
    "import data_loader\n",
    "import accuracy_counter as acc\n",
    "\n",
    "\n",
    "def main():\n",
    "    x_train_orig, x_test_orig, y_train, y_test = data_loader.spambase_loader()\n",
    "\n",
    "    for alfa in range(1, 21):\n",
    "        x_train, x_test = scale(x_train_orig, x_test_orig, alfa)\n",
    "        print(str(alfa) + \": \" + str(acc.count_accuracy(x_train, x_test, y_train, y_test)))\n",
    "\n",
    "\n",
    "def scale(data_train, data_test, alfa):\n",
    "    data_train_copy = data_train.copy()\n",
    "    data_test_copy = data_test.copy()\n",
    "    data_train_copy[:, -1] *= alfa\n",
    "    data_test_copy[:, -1] *= alfa\n",
    "\n",
    "    return data_train_copy, data_test_copy\n",
    "\n",
    "\n",
    "if __name__ == '__main__':\n",
    "    main()\n"
   ]
  },
  {
   "cell_type": "markdown",
   "metadata": {
    "collapsed": true
   },
   "source": [
    "Wyniki: \n",
    "1: 0.17905021586\n",
    "2: 0.174505794138\n",
    "3: 0.177914110429\n",
    "4: 0.181322426721\n",
    "5: 0.182912974324\n",
    "6: 0.185866848444\n",
    "7: 0.188593501477\n",
    "8: 0.188366280391\n",
    "9: 0.189729606908\n",
    "10: 0.190638491252\n",
    "11: 0.191774596683\n",
    "12: 0.192910702113\n",
    "13: 0.192910702113\n",
    "14: 0.191547375596\n",
    "15: 0.19427402863\n",
    "16: 0.194501249716\n",
    "17: 0.195182912974\n",
    "18: 0.193592365372\n",
    "19: 0.192229038855\n",
    "20: 0.193137923199\n",
    "\n",
    "Można zaobserwować, że im mniejsze przeskalowanie, tym błąd klasyfikacji mniejszy."
   ]
  },
  {
   "cell_type": "code",
   "execution_count": null,
   "metadata": {
    "collapsed": true
   },
   "outputs": [],
   "source": [
    "Moduł liczący średni błąd przy cross-validation z parametrem fold = 5."
   ]
  },
  {
   "cell_type": "code",
   "execution_count": 3,
   "metadata": {},
   "outputs": [
    {
     "name": "stdout",
     "output_type": "stream",
     "text": [
      "0.0828090921966\n",
      "0.0888946324883\n",
      "0.0880271916159\n",
      "0.0862868809895\n",
      "0.088458669688\n",
      "0.0891103715243\n",
      "0.0912838124911\n",
      "0.0873731293962\n",
      "0.0851980361611\n",
      "0.0873743095879\n"
     ]
    }
   ],
   "source": [
    "import data_loader\n",
    "import numpy as np\n",
    "import accuracy_counter as acc\n",
    "\n",
    "\n",
    "def main():\n",
    "    x_set, y_set = data_loader.spambase_for_cross_validation_loader()\n",
    "    folds_number = 5\n",
    "\n",
    "    for i in range(10):\n",
    "        x_folds, y_folds = get_data(x_set, y_set, folds_number=folds_number)\n",
    "\n",
    "        error_rates = []\n",
    "        for k in range(folds_number):\n",
    "            x_test = x_folds[k]\n",
    "            y_test = y_folds[k]\n",
    "\n",
    "            x_train = np.vstack(x_fold for i, x_fold\n",
    "                                in enumerate(x_folds)\n",
    "                                if i != k)\n",
    "\n",
    "            y_train = np.concatenate([y_fold for i, y_fold\n",
    "                                      in enumerate(y_folds)\n",
    "                                      if i != k])\n",
    "\n",
    "            error_rates.append(acc.count_accuracy(x_train, x_test, y_train, y_test))\n",
    "        print(np.array(error_rates).mean())\n",
    "\n",
    "\n",
    "def get_data(x_set, y_set, folds_number=3):\n",
    "    random_permutation = np.random.permutation(len(x_set))\n",
    "\n",
    "    shuffled_x = x_set[random_permutation]\n",
    "    shuffled_y = y_set[random_permutation]\n",
    "\n",
    "    x_folds = np.array_split(shuffled_x, folds_number)\n",
    "    y_folds = np.array_split(shuffled_y, folds_number)\n",
    "\n",
    "    return x_folds, y_folds\n",
    "\n",
    "\n",
    "if __name__ == '__main__':\n",
    "    main()"
   ]
  },
  {
   "cell_type": "markdown",
   "metadata": {
    "collapsed": true
   },
   "source": [
    "Moduł tworzący wykres pokazujący jak zmienia się wartość błędu w stosunku do wzrostu wymiarowości przestrzeni cech i."
   ]
  },
  {
   "cell_type": "code",
   "execution_count": 7,
   "metadata": {},
   "outputs": [
    {
     "name": "stdout",
     "output_type": "stream",
     "text": [
      "[0.132, 0.125, 0.156, 0.155, 0.196, 0.222, 0.277, 0.306, 0.339, 0.351, 0.366, 0.383, 0.402, 0.397, 0.392, 0.46, 0.439, 0.411, 0.457, 0.413, 0.436, 0.446, 0.452, 0.456, 0.438, 0.473, 0.463, 0.466, 0.463, 0.514, 0.474, 0.447, 0.476, 0.505, 0.455, 0.448, 0.473, 0.478, 0.458, 0.491]\n"
     ]
    },
    {
     "data": {
      "image/png": "[encoded data removed]",
      "text/plain": [
       "<matplotlib.figure.Figure at 0x1089fac18>"
      ]
     },
     "metadata": {},
     "output_type": "display_data"
    }
   ],
   "source": [
    "import accuracy_counter as acc\n",
    "import data_loader\n",
    "import matplotlib.pyplot as plt\n",
    "\n",
    "\n",
    "def main():\n",
    "    x_train, x_test, y_train, y_test = data_loader.hypercubes_loader()\n",
    "\n",
    "    error_rates = []\n",
    "    axis = list(range(1, len(x_test) + 1))\n",
    "    for k in axis:\n",
    "        error_rates.append(acc.count_accuracy(x_train[k-1], x_test[k-1], y_train[k-1], y_test[k-1]))\n",
    "    print(error_rates)\n",
    "    plot(error_rates, axis)\n",
    "\n",
    "\n",
    "def plot(y, x):\n",
    "    plt.plot(x, y, 'ro')\n",
    "    plt.axis([0, len(x), 0, 1])\n",
    "    plt.show()\n",
    "\n",
    "\n",
    "if __name__ == '__main__':\n",
    "    main()\n"
   ]
  },
  {
   "cell_type": "markdown",
   "metadata": {},
   "source": [
    "Wniosek: Błąd klasyfikacji rośnie wraz ze wrostem wymiarowości. Jest to związane z koncepcją \"Curse of dimentionality\": kiedy wzrasta wymiarowość, objętość przestrzeni wzrasta tak szybko, że dane stają się rzadkie."
   ]
  },
  {
   "cell_type": "markdown",
   "metadata": {},
   "source": [
    "Moduł, który oblicza dla każdego i, średnią z odległości każdego przykładu testowego do najbliższego przykładu treningowego z danej klasy i do przykładu treningowego z klasy przeciwnej, oraz stosunek tych średnich, po czym przedstawia je na wykresie w zależności od i."
   ]
  },
  {
   "cell_type": "code",
   "execution_count": 20,
   "metadata": {},
   "outputs": [
    {
     "name": "stdout",
     "output_type": "stream",
     "text": [
      "[0.00092149000850245359, 0.020339918270793143, 0.069140713478757138, 0.13073598987048665, 0.19984780652067133, 0.26500967412728238, 0.33307687901035399, 0.39347310925695467, 0.46024674558926265, 0.52001604555907466, 0.57917681601393023, 0.63894503859724994, 0.69889185866831383, 0.75061764905630013, 0.80792826697999398, 0.84948312130828807, 0.90844901299116099, 0.95254844714997278, 0.99711528715714726, 1.0462305473516154, 1.0913959822366295, 1.1338264481394966, 1.1826229882631287, 1.2201498147147649, 1.2564618170817747, 1.301639629727519, 1.3400915333213481, 1.3854617939518419, 1.4208867042298963, 1.4636003427241537, 1.5016222014480525, 1.5354746119836076, 1.5703056619996842, 1.608636976933238, 1.642495753192533, 1.6797125291187727, 1.7084004622267668, 1.7421913006087733, 1.7821558876035863, 1.8180681572603328]\n",
      "[1.2608401976653365, 1.4279217167281302, 1.4994608381179284, 1.5712185311063924, 1.6879061910296782, 1.7210414939997862, 1.783126571993501, 1.8553104002662471, 1.9204829334099422, 1.9566471654050357, 2.0434010117971777, 2.103787601030743, 2.1652861089202196, 2.2101475977192866, 2.2563202517848198, 2.2816357188182721, 2.3665554651530818, 2.3955038626958998, 2.4442870091817168, 2.4943711728650175, 2.5431239312301832, 2.5977700969913728, 2.6205691379747793, 2.671733458923673, 2.7061330586827284, 2.7589913968667013, 2.7853212324591592, 2.8291122614886799, 2.8605431756044526, 2.9084751938394859, 2.9627350415118214, 2.9859598170419179, 3.0160015636071007, 3.0545640405454759, 3.0962459805816609, 3.126669617200136, 3.1488196148712158, 3.1881829134253046, 3.2294431769437741, 3.268981123187813]\n",
      "[1, 2, 3, 4, 5, 6, 7, 8, 9, 10, 11, 12, 13, 14, 15, 16, 17, 18, 19, 20, 21, 22, 23, 24, 25, 26, 27, 28, 29, 30, 31, 32, 33, 34, 35, 36, 37, 38, 39, 40]\n",
      "[0.00092149000850245359, 0.020339918270793143, 0.069140713478757138, 0.13073598987048665, 0.19984780652067133, 0.26500967412728238, 0.33307687901035399, 0.39347310925695467, 0.46024674558926265, 0.52001604555907466, 0.57917681601393023, 0.63894503859724994, 0.69889185866831383, 0.75061764905630013, 0.80792826697999398, 0.84948312130828807, 0.90844901299116099, 0.95254844714997278, 0.99711528715714726, 1.0462305473516154, 1.0913959822366295, 1.1338264481394966, 1.1826229882631287, 1.2201498147147649, 1.2564618170817747, 1.301639629727519, 1.3400915333213481, 1.3854617939518419, 1.4208867042298963, 1.4636003427241537, 1.5016222014480525, 1.5354746119836076, 1.5703056619996842, 1.608636976933238, 1.642495753192533, 1.6797125291187727, 1.7084004622267668, 1.7421913006087733, 1.7821558876035863, 1.8180681572603328]\n"
     ]
    },
    {
     "data": {
      "image/png": "[encoded data removed]",
      "text/plain": [
       "<matplotlib.figure.Figure at 0x18198e6fd0>"
      ]
     },
     "metadata": {},
     "output_type": "display_data"
    }
   ],
   "source": [
    "import accuracy_counter as acc\n",
    "import data_loader\n",
    "import matplotlib.pyplot as plt\n",
    "\n",
    "\n",
    "def main():\n",
    "    x_train, x_test, y_train, y_test = data_loader.hypercubes_loader()\n",
    "\n",
    "    closest_error_rates = []\n",
    "    contrary_error_rates = []\n",
    "    for k in range(len(x_test)):\n",
    "        rates = acc.count_accuracy(x_train[k], x_test[k], y_train[k], y_test[k], contrary=True)\n",
    "        closest_error_rates.append(rates[0])\n",
    "        contrary_error_rates.append(rates[1])\n",
    "    print(closest_error_rates)\n",
    "    print(contrary_error_rates)\n",
    "    plot(closest_error_rates, contrary_error_rates, list(range(1, len(contrary_error_rates) + 1)))\n",
    "\n",
    "\n",
    "def plot(y1, y2, x):\n",
    "    plt.plot(x, y1, 'ro')\n",
    "    plt.plot(x, y2, 'gx')\n",
    "    plt.axis([0, len(x), 0, int(max(max(y1), max(y2))) + 1])\n",
    "    plt.show()\n",
    "\n",
    "\n",
    "if __name__ == '__main__':\n",
    "    main()"
   ]
  },
  {
   "cell_type": "markdown",
   "metadata": {
    "collapsed": true
   },
   "source": [
    "Legenda: \n",
    "* closest: red, \n",
    "* contrary: green\n",
    "\n",
    "Wnioski:\n",
    "Różnica średnich wraz ze wzrostem wymiarowości pozostaje mniej więcej taka sama."
   ]
  }
 ],
 "metadata": {
  "kernelspec": {
   "display_name": "Python 3",
   "language": "python",
   "name": "python3"
  },
  "language_info": {
   "codemirror_mode": {
    "name": "ipython",
    "version": 3
   },
   "file_extension": ".py",
   "mimetype": "text/x-python",
   "name": "python",
   "nbconvert_exporter": "python",
   "pygments_lexer": "ipython3",
   "version": "3.6.2"
  }
 },
 "nbformat": 4,
 "nbformat_minor": 2
}
